{
  "cells": [
    {
      "cell_type": "markdown",
      "metadata": {
        "id": "p9AoxIp0YBir"
      },
      "source": [
        "# Lab - 2 :\n",
        "  # Task - 3 : Recommender System"
      ]
    },
    {
      "cell_type": "code",
      "execution_count": null,
      "metadata": {
        "id": "jfrDiApdgxyE"
      },
      "outputs": [],
      "source": [
        "# Importing necessary libraries\n",
        "import pandas as pd\n",
        "import numpy as np\n",
        "import matplotlib.pyplot as plt\n",
        "from sklearn.decomposition import PCA\n",
        "from sklearn.metrics.pairwise import cosine_similarity"
      ]
    },
    {
      "cell_type": "code",
      "execution_count": null,
      "metadata": {
        "colab": {
          "base_uri": "https://localhost:8080/"
        },
        "id": "WxGg9BGnu-t_",
        "outputId": "f4791bb8-25a2-4539-943f-993425ace216"
      },
      "outputs": [
        {
          "name": "stdout",
          "output_type": "stream",
          "text": [
            "Drive already mounted at /content/drive/; to attempt to forcibly remount, call drive.mount(\"/content/drive/\", force_remount=True).\n"
          ]
        }
      ],
      "source": [
        "# Mounting the drive to read the csv files\n",
        "from google.colab import drive\n",
        "\n",
        "drive.mount('/content/drive/')"
      ]
    },
    {
      "cell_type": "markdown",
      "metadata": {
        "id": "5RO7eEiJc37X"
      },
      "source": [
        "# Task 3 Recommender System (20 Points)\n"
      ]
    },
    {
      "cell_type": "markdown",
      "metadata": {
        "id": "cLm1K4pTeggN"
      },
      "source": [
        "## 1. Download m1.zip file from the link (https://grouplens.org/datasets/movielens/1m/) (0 points)"
      ]
    },
    {
      "cell_type": "markdown",
      "metadata": {
        "id": "dLK-J6-kHfyq"
      },
      "source": [
        "Downloaded the required files"
      ]
    },
    {
      "cell_type": "markdown",
      "metadata": {
        "id": "okn1KaSuejCt"
      },
      "source": [
        "## 2. Load the movies and ratings data (1 points)"
      ]
    },
    {
      "cell_type": "code",
      "execution_count": null,
      "metadata": {
        "id": "rgs7GM6fu1BB"
      },
      "outputs": [],
      "source": [
        "# Loading movies data\n",
        "movies = pd.read_csv('/content/drive/My Drive/movies.dat', delimiter='::', header=None, \n",
        "    names=['movie_id', 'title', 'genre'], engine='python', encoding='ISO-8859-1')"
      ]
    },
    {
      "cell_type": "code",
      "execution_count": null,
      "metadata": {
        "colab": {
          "base_uri": "https://localhost:8080/",
          "height": 206
        },
        "id": "5qGvjVcGxfXb",
        "outputId": "df505398-ddc7-4a95-86bc-93b8f69a90d2"
      },
      "outputs": [
        {
          "data": {
            "text/html": [
              "\n",
              "  <div id=\"df-82904e38-de06-44a1-9164-dc971d18ef06\">\n",
              "    <div class=\"colab-df-container\">\n",
              "      <div>\n",
              "<style scoped>\n",
              "    .dataframe tbody tr th:only-of-type {\n",
              "        vertical-align: middle;\n",
              "    }\n",
              "\n",
              "    .dataframe tbody tr th {\n",
              "        vertical-align: top;\n",
              "    }\n",
              "\n",
              "    .dataframe thead th {\n",
              "        text-align: right;\n",
              "    }\n",
              "</style>\n",
              "<table border=\"1\" class=\"dataframe\">\n",
              "  <thead>\n",
              "    <tr style=\"text-align: right;\">\n",
              "      <th></th>\n",
              "      <th>movie_id</th>\n",
              "      <th>title</th>\n",
              "      <th>genre</th>\n",
              "    </tr>\n",
              "  </thead>\n",
              "  <tbody>\n",
              "    <tr>\n",
              "      <th>0</th>\n",
              "      <td>1</td>\n",
              "      <td>Toy Story (1995)</td>\n",
              "      <td>Animation|Children's|Comedy</td>\n",
              "    </tr>\n",
              "    <tr>\n",
              "      <th>1</th>\n",
              "      <td>2</td>\n",
              "      <td>Jumanji (1995)</td>\n",
              "      <td>Adventure|Children's|Fantasy</td>\n",
              "    </tr>\n",
              "    <tr>\n",
              "      <th>2</th>\n",
              "      <td>3</td>\n",
              "      <td>Grumpier Old Men (1995)</td>\n",
              "      <td>Comedy|Romance</td>\n",
              "    </tr>\n",
              "    <tr>\n",
              "      <th>3</th>\n",
              "      <td>4</td>\n",
              "      <td>Waiting to Exhale (1995)</td>\n",
              "      <td>Comedy|Drama</td>\n",
              "    </tr>\n",
              "    <tr>\n",
              "      <th>4</th>\n",
              "      <td>5</td>\n",
              "      <td>Father of the Bride Part II (1995)</td>\n",
              "      <td>Comedy</td>\n",
              "    </tr>\n",
              "  </tbody>\n",
              "</table>\n",
              "</div>\n",
              "      <button class=\"colab-df-convert\" onclick=\"convertToInteractive('df-82904e38-de06-44a1-9164-dc971d18ef06')\"\n",
              "              title=\"Convert this dataframe to an interactive table.\"\n",
              "              style=\"display:none;\">\n",
              "        \n",
              "  <svg xmlns=\"http://www.w3.org/2000/svg\" height=\"24px\"viewBox=\"0 0 24 24\"\n",
              "       width=\"24px\">\n",
              "    <path d=\"M0 0h24v24H0V0z\" fill=\"none\"/>\n",
              "    <path d=\"M18.56 5.44l.94 2.06.94-2.06 2.06-.94-2.06-.94-.94-2.06-.94 2.06-2.06.94zm-11 1L8.5 8.5l.94-2.06 2.06-.94-2.06-.94L8.5 2.5l-.94 2.06-2.06.94zm10 10l.94 2.06.94-2.06 2.06-.94-2.06-.94-.94-2.06-.94 2.06-2.06.94z\"/><path d=\"M17.41 7.96l-1.37-1.37c-.4-.4-.92-.59-1.43-.59-.52 0-1.04.2-1.43.59L10.3 9.45l-7.72 7.72c-.78.78-.78 2.05 0 2.83L4 21.41c.39.39.9.59 1.41.59.51 0 1.02-.2 1.41-.59l7.78-7.78 2.81-2.81c.8-.78.8-2.07 0-2.86zM5.41 20L4 18.59l7.72-7.72 1.47 1.35L5.41 20z\"/>\n",
              "  </svg>\n",
              "      </button>\n",
              "      \n",
              "  <style>\n",
              "    .colab-df-container {\n",
              "      display:flex;\n",
              "      flex-wrap:wrap;\n",
              "      gap: 12px;\n",
              "    }\n",
              "\n",
              "    .colab-df-convert {\n",
              "      background-color: #E8F0FE;\n",
              "      border: none;\n",
              "      border-radius: 50%;\n",
              "      cursor: pointer;\n",
              "      display: none;\n",
              "      fill: #1967D2;\n",
              "      height: 32px;\n",
              "      padding: 0 0 0 0;\n",
              "      width: 32px;\n",
              "    }\n",
              "\n",
              "    .colab-df-convert:hover {\n",
              "      background-color: #E2EBFA;\n",
              "      box-shadow: 0px 1px 2px rgba(60, 64, 67, 0.3), 0px 1px 3px 1px rgba(60, 64, 67, 0.15);\n",
              "      fill: #174EA6;\n",
              "    }\n",
              "\n",
              "    [theme=dark] .colab-df-convert {\n",
              "      background-color: #3B4455;\n",
              "      fill: #D2E3FC;\n",
              "    }\n",
              "\n",
              "    [theme=dark] .colab-df-convert:hover {\n",
              "      background-color: #434B5C;\n",
              "      box-shadow: 0px 1px 3px 1px rgba(0, 0, 0, 0.15);\n",
              "      filter: drop-shadow(0px 1px 2px rgba(0, 0, 0, 0.3));\n",
              "      fill: #FFFFFF;\n",
              "    }\n",
              "  </style>\n",
              "\n",
              "      <script>\n",
              "        const buttonEl =\n",
              "          document.querySelector('#df-82904e38-de06-44a1-9164-dc971d18ef06 button.colab-df-convert');\n",
              "        buttonEl.style.display =\n",
              "          google.colab.kernel.accessAllowed ? 'block' : 'none';\n",
              "\n",
              "        async function convertToInteractive(key) {\n",
              "          const element = document.querySelector('#df-82904e38-de06-44a1-9164-dc971d18ef06');\n",
              "          const dataTable =\n",
              "            await google.colab.kernel.invokeFunction('convertToInteractive',\n",
              "                                                     [key], {});\n",
              "          if (!dataTable) return;\n",
              "\n",
              "          const docLinkHtml = 'Like what you see? Visit the ' +\n",
              "            '<a target=\"_blank\" href=https://colab.research.google.com/notebooks/data_table.ipynb>data table notebook</a>'\n",
              "            + ' to learn more about interactive tables.';\n",
              "          element.innerHTML = '';\n",
              "          dataTable['output_type'] = 'display_data';\n",
              "          await google.colab.output.renderOutput(dataTable, element);\n",
              "          const docLink = document.createElement('div');\n",
              "          docLink.innerHTML = docLinkHtml;\n",
              "          element.appendChild(docLink);\n",
              "        }\n",
              "      </script>\n",
              "    </div>\n",
              "  </div>\n",
              "  "
            ],
            "text/plain": [
              "   movie_id                               title                         genre\n",
              "0         1                    Toy Story (1995)   Animation|Children's|Comedy\n",
              "1         2                      Jumanji (1995)  Adventure|Children's|Fantasy\n",
              "2         3             Grumpier Old Men (1995)                Comedy|Romance\n",
              "3         4            Waiting to Exhale (1995)                  Comedy|Drama\n",
              "4         5  Father of the Bride Part II (1995)                        Comedy"
            ]
          },
          "execution_count": 4,
          "metadata": {},
          "output_type": "execute_result"
        }
      ],
      "source": [
        "# Peeking at the movies dataset\n",
        "movies.head()"
      ]
    },
    {
      "cell_type": "code",
      "execution_count": null,
      "metadata": {
        "id": "YuWWKrgwvcrd"
      },
      "outputs": [],
      "source": [
        "# Loading ratings data\n",
        "ratings = pd.read_csv('/content/drive/My Drive/ratings.dat', delimiter='::', header=None, \n",
        "    names=['user_id', 'movie_id', 'rating', 'timestamp'], engine='python')"
      ]
    },
    {
      "cell_type": "code",
      "execution_count": null,
      "metadata": {
        "colab": {
          "base_uri": "https://localhost:8080/",
          "height": 206
        },
        "id": "NvwyOpfBwao3",
        "outputId": "d4af66fa-805c-4032-84a5-b32f9cf1d36e"
      },
      "outputs": [
        {
          "data": {
            "text/html": [
              "\n",
              "  <div id=\"df-c98ffdf0-f16c-47fb-8524-46be19d0bb3c\">\n",
              "    <div class=\"colab-df-container\">\n",
              "      <div>\n",
              "<style scoped>\n",
              "    .dataframe tbody tr th:only-of-type {\n",
              "        vertical-align: middle;\n",
              "    }\n",
              "\n",
              "    .dataframe tbody tr th {\n",
              "        vertical-align: top;\n",
              "    }\n",
              "\n",
              "    .dataframe thead th {\n",
              "        text-align: right;\n",
              "    }\n",
              "</style>\n",
              "<table border=\"1\" class=\"dataframe\">\n",
              "  <thead>\n",
              "    <tr style=\"text-align: right;\">\n",
              "      <th></th>\n",
              "      <th>user_id</th>\n",
              "      <th>movie_id</th>\n",
              "      <th>rating</th>\n",
              "      <th>timestamp</th>\n",
              "    </tr>\n",
              "  </thead>\n",
              "  <tbody>\n",
              "    <tr>\n",
              "      <th>0</th>\n",
              "      <td>1</td>\n",
              "      <td>1193</td>\n",
              "      <td>5</td>\n",
              "      <td>978300760</td>\n",
              "    </tr>\n",
              "    <tr>\n",
              "      <th>1</th>\n",
              "      <td>1</td>\n",
              "      <td>661</td>\n",
              "      <td>3</td>\n",
              "      <td>978302109</td>\n",
              "    </tr>\n",
              "    <tr>\n",
              "      <th>2</th>\n",
              "      <td>1</td>\n",
              "      <td>914</td>\n",
              "      <td>3</td>\n",
              "      <td>978301968</td>\n",
              "    </tr>\n",
              "    <tr>\n",
              "      <th>3</th>\n",
              "      <td>1</td>\n",
              "      <td>3408</td>\n",
              "      <td>4</td>\n",
              "      <td>978300275</td>\n",
              "    </tr>\n",
              "    <tr>\n",
              "      <th>4</th>\n",
              "      <td>1</td>\n",
              "      <td>2355</td>\n",
              "      <td>5</td>\n",
              "      <td>978824291</td>\n",
              "    </tr>\n",
              "  </tbody>\n",
              "</table>\n",
              "</div>\n",
              "      <button class=\"colab-df-convert\" onclick=\"convertToInteractive('df-c98ffdf0-f16c-47fb-8524-46be19d0bb3c')\"\n",
              "              title=\"Convert this dataframe to an interactive table.\"\n",
              "              style=\"display:none;\">\n",
              "        \n",
              "  <svg xmlns=\"http://www.w3.org/2000/svg\" height=\"24px\"viewBox=\"0 0 24 24\"\n",
              "       width=\"24px\">\n",
              "    <path d=\"M0 0h24v24H0V0z\" fill=\"none\"/>\n",
              "    <path d=\"M18.56 5.44l.94 2.06.94-2.06 2.06-.94-2.06-.94-.94-2.06-.94 2.06-2.06.94zm-11 1L8.5 8.5l.94-2.06 2.06-.94-2.06-.94L8.5 2.5l-.94 2.06-2.06.94zm10 10l.94 2.06.94-2.06 2.06-.94-2.06-.94-.94-2.06-.94 2.06-2.06.94z\"/><path d=\"M17.41 7.96l-1.37-1.37c-.4-.4-.92-.59-1.43-.59-.52 0-1.04.2-1.43.59L10.3 9.45l-7.72 7.72c-.78.78-.78 2.05 0 2.83L4 21.41c.39.39.9.59 1.41.59.51 0 1.02-.2 1.41-.59l7.78-7.78 2.81-2.81c.8-.78.8-2.07 0-2.86zM5.41 20L4 18.59l7.72-7.72 1.47 1.35L5.41 20z\"/>\n",
              "  </svg>\n",
              "      </button>\n",
              "      \n",
              "  <style>\n",
              "    .colab-df-container {\n",
              "      display:flex;\n",
              "      flex-wrap:wrap;\n",
              "      gap: 12px;\n",
              "    }\n",
              "\n",
              "    .colab-df-convert {\n",
              "      background-color: #E8F0FE;\n",
              "      border: none;\n",
              "      border-radius: 50%;\n",
              "      cursor: pointer;\n",
              "      display: none;\n",
              "      fill: #1967D2;\n",
              "      height: 32px;\n",
              "      padding: 0 0 0 0;\n",
              "      width: 32px;\n",
              "    }\n",
              "\n",
              "    .colab-df-convert:hover {\n",
              "      background-color: #E2EBFA;\n",
              "      box-shadow: 0px 1px 2px rgba(60, 64, 67, 0.3), 0px 1px 3px 1px rgba(60, 64, 67, 0.15);\n",
              "      fill: #174EA6;\n",
              "    }\n",
              "\n",
              "    [theme=dark] .colab-df-convert {\n",
              "      background-color: #3B4455;\n",
              "      fill: #D2E3FC;\n",
              "    }\n",
              "\n",
              "    [theme=dark] .colab-df-convert:hover {\n",
              "      background-color: #434B5C;\n",
              "      box-shadow: 0px 1px 3px 1px rgba(0, 0, 0, 0.15);\n",
              "      filter: drop-shadow(0px 1px 2px rgba(0, 0, 0, 0.3));\n",
              "      fill: #FFFFFF;\n",
              "    }\n",
              "  </style>\n",
              "\n",
              "      <script>\n",
              "        const buttonEl =\n",
              "          document.querySelector('#df-c98ffdf0-f16c-47fb-8524-46be19d0bb3c button.colab-df-convert');\n",
              "        buttonEl.style.display =\n",
              "          google.colab.kernel.accessAllowed ? 'block' : 'none';\n",
              "\n",
              "        async function convertToInteractive(key) {\n",
              "          const element = document.querySelector('#df-c98ffdf0-f16c-47fb-8524-46be19d0bb3c');\n",
              "          const dataTable =\n",
              "            await google.colab.kernel.invokeFunction('convertToInteractive',\n",
              "                                                     [key], {});\n",
              "          if (!dataTable) return;\n",
              "\n",
              "          const docLinkHtml = 'Like what you see? Visit the ' +\n",
              "            '<a target=\"_blank\" href=https://colab.research.google.com/notebooks/data_table.ipynb>data table notebook</a>'\n",
              "            + ' to learn more about interactive tables.';\n",
              "          element.innerHTML = '';\n",
              "          dataTable['output_type'] = 'display_data';\n",
              "          await google.colab.output.renderOutput(dataTable, element);\n",
              "          const docLink = document.createElement('div');\n",
              "          docLink.innerHTML = docLinkHtml;\n",
              "          element.appendChild(docLink);\n",
              "        }\n",
              "      </script>\n",
              "    </div>\n",
              "  </div>\n",
              "  "
            ],
            "text/plain": [
              "   user_id  movie_id  rating  timestamp\n",
              "0        1      1193       5  978300760\n",
              "1        1       661       3  978302109\n",
              "2        1       914       3  978301968\n",
              "3        1      3408       4  978300275\n",
              "4        1      2355       5  978824291"
            ]
          },
          "execution_count": 6,
          "metadata": {},
          "output_type": "execute_result"
        }
      ],
      "source": [
        "# Looking at few records of the ratings dataset\n",
        "ratings.head()"
      ]
    },
    {
      "cell_type": "markdown",
      "metadata": {
        "id": "nlkUBsoQelhb"
      },
      "source": [
        "## 3. What do you mean by Singular Value Decomposition (2 points)?\n"
      ]
    },
    {
      "cell_type": "markdown",
      "metadata": {
        "id": "bIr-hhbOhQD_"
      },
      "source": [
        "The Singular Value Decomposition (SVD) of a matrix is a factorization of that matrix into three matrices.<br> It has some interesting algebraic properties and conveys important geometrical and theoretical insights about linear transformations.<br>SVD will take a matrix as an input and decompose it into a product of three simpler matrices like below:\n",
        "<div>\n",
        "<img src='https://miro.medium.com/max/894/1*XNWUlrQJXGeoCDqUMd0iUA.png' width='300'>\n",
        "</div>\n",
        "Singular value decomposition  represents a dataset by eliminating the less important parts and generating an accurate approximation of the original dataset.<br> In machine learning, SVD is widely used as a data reduction(dimensionality reduction) method.<br>SVD can also be used in least squares linear regression, image compression, and denoising data."
      ]
    },
    {
      "cell_type": "markdown",
      "metadata": {
        "id": "sRbmc9-veoQf"
      },
      "source": [
        "## 4. What do you mean by Principal Component Analysis (2 points)?"
      ]
    },
    {
      "cell_type": "markdown",
      "metadata": {
        "id": "IiRyvdB3hQ_d"
      },
      "source": [
        "Principal Component Analysis (PCA) is a technique of Feature Extraction and is one of the leading linear techniques of dimensionality reduction.<br>\n",
        "\n",
        "This method performs a direct mapping of the data to a lesser dimensional space in a way that maximizes the variance of the data in the low-dimensional representation.<br>\n",
        "\n",
        "In other words, PCA is a method of obtaining important variables (in form of components) from a large set of variables available in a data set.<br> It extracts low dimensional set of features by taking a projection of irrelevant dimensions from a high dimensional data set with a motive to capture as much information as possible.<br> With fewer variables obtained while minimizing the loss of information, visualization also becomes much more meaningful.<br> PCA is more useful when dealing with 3 or higher dimensional data.<br><br>\n",
        "For example, let's say we have a dataset with 50 features.<br>\n",
        "Since we have large dimension, we can have 50(50 - 1)/2 scatter plots i.e more than 1000 plots possible to analyze the variable relationship which is not an ideal way to analyze the dataset.<br> \n",
        "\n",
        "<br>The image below shows the transformation of a high dimensional data (3 dimension) to low dimensional data (2 dimension) using PCA. Not to forget, each resultant dimension is a linear combination of all the original features\n",
        "\n",
        "<div>\n",
        "<img src='https://raw.githubusercontent.com/ritchieng/machine-learning-stanford/master/w8_unsupervised_learning/unsupervisedlearning22.png' width=600>\n",
        "</div>\n",
        "\n",
        "Below are some of the key points about PCA :\n",
        "\n",
        "1. A principal component is a linear combination of the original variables\n",
        "2. Principal components are extracted in such a way that the first principal component explains maximum variance in the dataset\n",
        "3. Then, secondly, principal component tries to explain the remaining variance in the dataset and is uncorrelated to the first principal component\n",
        "4. Third principal component tries to explain the variance which is not explained by the first two principal components and so on."
      ]
    },
    {
      "cell_type": "markdown",
      "metadata": {
        "id": "bDs6pT-Rerb-"
      },
      "source": [
        "## 5. Explain content-based vs collaborative recommendation (2 points)"
      ]
    },
    {
      "cell_type": "markdown",
      "metadata": {
        "id": "R9dvGFwrhRZs"
      },
      "source": [
        "Recommender systems are an advantageous alternative to search algorithms.<br> They help users discover items they might not have found otherwise and offer personalized products to the taste of the users.<br> For this reason, any large platform needs a recommendation system algorithm to make the user’s shopping more enjoyable by automating the search process, offering personalized items, and saving their time.<br><br>\n",
        "There are 2 major types of recommender systems : \n",
        "* Collaborative  \n",
        "  Collaborative methods for recommender systems are methods that are based solely on the past interactions recorded between users and items in order to produce new recommendations.\n",
        "* Content based \n",
        "  Unlike collaborative methods that only rely on the user-item interactions, content based approaches use additional information about users and/or items.\n",
        "  <br><br>\n",
        "  Below are the differences between Content-based and Collaborative recommender systems:\n",
        "\n",
        "CONTENT-BASED  | COLLABORATIVE \n",
        "-------------------|------------------\n",
        "In content based filtering, we use properties of the objects<br> and link similar ones and show them.       | In collaborative filtering, we usually use data of what was in any way linked together<br> by an outside sorting entity (e.g. bought together by an online shopper)<br> and show them in an ordered list.\n",
        "A content-based recommendation engine emphasizes on the content features.     | A collaborative recommendation engine emphasizes on the user preference.\n",
        "In content-based filtering, a recommendation system uses<br> the content profiles which includes the content features.     | In collaborative filtering, a recommendation engine requires the user profiles to suggest relevant content.\n",
        "The content-based recommendation systems are product features oriented<br> and hence don't have cold start problems.    |  The collaborative recommendation systems feed on the user ratings, reviews, thumbs ups & downs,<br> and other feedback on various products or services.<br> So, the products with no ratings or feedback can't be recommended to any user.<br> Neither a new user who hasn't given any reviews or ratings can get any recommendation by the collaborative recommendation engine.<br>** This is called the cold start problem.**\n",
        "A content-based recommendation engine can provide more accurate<br> recommendations as it focuses on the features of the content the user likes.       | A collaborative recommendation engine doesn't always ensure precise recommendations<br> because the users with similar taste may not like the same products.\n",
        "Example of Content filtering: we show all the books that have have<br> same author, same publisher, same genre and the most similar number<br> of pages as book.      | Example of Collaborative filtering: we analyse what books have been read by people that have read book A<br> and the ones with highest count comes on the top of the list."
      ]
    },
    {
      "cell_type": "markdown",
      "metadata": {
        "id": "qLdwwP6leuGr"
      },
      "source": [
        "## 6. Create m x u matrix with movies as row and users as column. Normalize the matrix. (2 points)"
      ]
    },
    {
      "cell_type": "code",
      "execution_count": null,
      "metadata": {
        "id": "4gtySCAxMJsH"
      },
      "outputs": [],
      "source": [
        "# Creating the m x u matrix with rows as movies and columns as users\n",
        "m_u_mat = np.ndarray(shape=(np.max(ratings.movie_id.values), np.max(ratings.user_id.values)), dtype=np.uint8)\n",
        "m_u_mat[ratings.movie_id.values-1, ratings.user_id.values-1] = ratings.rating.values"
      ]
    },
    {
      "cell_type": "code",
      "execution_count": null,
      "metadata": {
        "colab": {
          "base_uri": "https://localhost:8080/"
        },
        "id": "0LGOrTUQMQ9R",
        "outputId": "38633d1f-a445-455c-fec6-6352a82c2ea7"
      },
      "outputs": [
        {
          "data": {
            "text/plain": [
              "array([[  5,   0,   0, ...,  39, 205,   3],\n",
              "       [  0,   0,   0, ...,  39, 205,  65],\n",
              "       [  0,   0,   0, ...,  41, 205,  65],\n",
              "       ...,\n",
              "       [ 71,   1,   0, ...,   0,   0,   0],\n",
              "       [100,   1,   0, ...,   0,   0,   0],\n",
              "       [102,   9,   0, ...,   0,   0,   0]], dtype=uint8)"
            ]
          },
          "execution_count": 8,
          "metadata": {},
          "output_type": "execute_result"
        }
      ],
      "source": [
        "m_u_mat"
      ]
    },
    {
      "cell_type": "code",
      "execution_count": null,
      "metadata": {
        "id": "5wGz3yi2Mdkp"
      },
      "outputs": [],
      "source": [
        "# Normalizing the matrix by subtracting the mean from the data\n",
        "normalised_mat = m_u_mat - np.asarray([(np.mean(m_u_mat, 1))]).T"
      ]
    },
    {
      "cell_type": "code",
      "execution_count": null,
      "metadata": {
        "colab": {
          "base_uri": "https://localhost:8080/"
        },
        "id": "jSOm2lYNMgUy",
        "outputId": "a89de479-4d9f-4f65-c3d2-8f3b70467f71"
      },
      "outputs": [
        {
          "data": {
            "text/plain": [
              "array([[-48.85082781, -53.85082781, -53.85082781, ..., -14.85082781,\n",
              "        151.14917219, -50.85082781],\n",
              "       [-63.70612583, -63.70612583, -63.70612583, ..., -24.70612583,\n",
              "        141.29387417,   1.29387417],\n",
              "       [-74.61854305, -74.61854305, -74.61854305, ..., -33.61854305,\n",
              "        130.38145695,  -9.61854305],\n",
              "       ...,\n",
              "       [ 53.92466887, -16.07533113, -17.07533113, ..., -17.07533113,\n",
              "        -17.07533113, -17.07533113],\n",
              "       [ 83.57996689, -15.42003311, -16.42003311, ..., -16.42003311,\n",
              "        -16.42003311, -16.42003311],\n",
              "       [ 86.36324503,  -6.63675497, -15.63675497, ..., -15.63675497,\n",
              "        -15.63675497, -15.63675497]])"
            ]
          },
          "execution_count": 10,
          "metadata": {},
          "output_type": "execute_result"
        }
      ],
      "source": [
        "normalised_mat"
      ]
    },
    {
      "cell_type": "markdown",
      "metadata": {
        "id": "Js81BlpKewiY"
      },
      "source": [
        "## 7. Perform SVD to get U, S and V (2 points)"
      ]
    },
    {
      "cell_type": "code",
      "execution_count": null,
      "metadata": {
        "id": "93CLTv95Kvs2"
      },
      "outputs": [],
      "source": [
        "# Performing Singular Value Decomposition to reduce m_u_matrix to its constituent parts\n",
        "\n",
        "A = normalised_mat.T / np.sqrt(m_u_mat.shape[0] - 1)\n",
        "U, S, V = np.linalg.svd(A)"
      ]
    },
    {
      "cell_type": "code",
      "execution_count": null,
      "metadata": {
        "colab": {
          "base_uri": "https://localhost:8080/"
        },
        "id": "MTA2yIGMM8r7",
        "outputId": "609313a6-7410-496d-d1d0-7a93d7f340e6"
      },
      "outputs": [
        {
          "data": {
            "text/plain": [
              "array([[-2.31247364e-02, -2.59410569e-02, -3.95600606e-03, ...,\n",
              "        -1.66888417e-04,  4.00301106e-05,  2.51908945e-04],\n",
              "       [-1.40180142e-02,  1.72413040e-02,  5.22678807e-03, ...,\n",
              "         1.19862911e-02,  4.22999940e-06, -2.45610003e-03],\n",
              "       [-2.67517670e-03,  9.07475904e-03,  5.43251882e-03, ...,\n",
              "        -5.17886366e-03, -1.77639301e-02,  7.74766485e-03],\n",
              "       ...,\n",
              "       [ 6.90264864e-03,  5.30680194e-03, -3.32482486e-02, ...,\n",
              "         6.75023147e-01, -1.21619664e-03, -1.79708008e-02],\n",
              "       [ 1.98991087e-02, -1.37234592e-02,  8.67152798e-03, ...,\n",
              "         3.52384802e-03,  5.26167812e-01, -1.86650230e-02],\n",
              "       [-3.42998404e-03,  9.74060227e-03,  5.91537290e-03, ...,\n",
              "         2.43980616e-03,  3.65412618e-03,  2.62930625e-01]])"
            ]
          },
          "execution_count": 12,
          "metadata": {},
          "output_type": "execute_result"
        }
      ],
      "source": [
        "U"
      ]
    },
    {
      "cell_type": "code",
      "execution_count": null,
      "metadata": {
        "colab": {
          "base_uri": "https://localhost:8080/"
        },
        "id": "Qvh9tRSGM8j1",
        "outputId": "b7fd4a07-baa8-4761-c227-0d2a15203cce"
      },
      "outputs": [
        {
          "data": {
            "text/plain": [
              "array([3.03082494e+03, 1.40080530e+03, 1.15212291e+03, ...,\n",
              "       5.01351438e-03, 4.92420143e-03, 4.79885728e-03])"
            ]
          },
          "execution_count": 13,
          "metadata": {},
          "output_type": "execute_result"
        }
      ],
      "source": [
        "S"
      ]
    },
    {
      "cell_type": "code",
      "execution_count": null,
      "metadata": {
        "colab": {
          "base_uri": "https://localhost:8080/"
        },
        "id": "UVMDJsWLM8bj",
        "outputId": "40ec95c8-e360-41a4-8475-75e34ef09c47"
      },
      "outputs": [
        {
          "data": {
            "text/plain": [
              "array([[ 1.65797138e-02,  2.00167562e-02,  2.32160001e-02, ...,\n",
              "        -1.21331440e-02, -1.16758393e-02, -1.09807116e-02],\n",
              "       [-1.13086217e-02, -1.32282382e-02, -1.53958374e-02, ...,\n",
              "        -2.67175480e-02, -2.57167618e-02, -2.42453575e-02],\n",
              "       [ 1.74868690e-02,  1.69500080e-02,  2.58440634e-02, ...,\n",
              "        -4.66612616e-03, -4.50187830e-03, -4.23996999e-03],\n",
              "       ...,\n",
              "       [-8.04743341e-06,  1.95847241e-06, -2.35466310e-06, ...,\n",
              "        -1.82913224e-04, -2.24895066e-04, -6.11248586e-05],\n",
              "       [-1.94633216e-06, -2.52628165e-06,  3.09984387e-06, ...,\n",
              "         5.35696290e-04,  1.32441940e-04, -1.00886274e-03],\n",
              "       [-9.92543655e-07,  2.92011660e-06,  2.05365950e-08, ...,\n",
              "        -7.61012132e-04,  5.65587054e-04,  7.13174366e-04]])"
            ]
          },
          "execution_count": 14,
          "metadata": {},
          "output_type": "execute_result"
        }
      ],
      "source": [
        "V"
      ]
    },
    {
      "cell_type": "markdown",
      "metadata": {
        "id": "11QLVgJDeytI"
      },
      "source": [
        "## 8. Select top 50 components from V.T (1 point)"
      ]
    },
    {
      "cell_type": "code",
      "execution_count": null,
      "metadata": {
        "colab": {
          "base_uri": "https://localhost:8080/"
        },
        "id": "XrBrfASFNeII",
        "outputId": "9b8f6d9a-d47d-4642-cd6f-9f9f007d649c"
      },
      "outputs": [
        {
          "data": {
            "text/plain": [
              "array([[ 0.01657971, -0.01130862,  0.01748687, ..., -0.00378709,\n",
              "         0.06130739,  0.01384019],\n",
              "       [ 0.02001676, -0.01322824,  0.01695001, ...,  0.03277592,\n",
              "         0.0250785 , -0.03028389],\n",
              "       [ 0.023216  , -0.01539584,  0.02584406, ...,  0.02127364,\n",
              "        -0.04888445,  0.00064658],\n",
              "       ...,\n",
              "       [-0.01213314, -0.02671755, -0.00466613, ..., -0.03499617,\n",
              "        -0.00580994, -0.01071   ],\n",
              "       [-0.01167584, -0.02571676, -0.00450188, ...,  0.00583776,\n",
              "         0.00179773,  0.00294526],\n",
              "       [-0.01098071, -0.02424536, -0.00423997, ..., -0.00750311,\n",
              "         0.00185942,  0.00160853]])"
            ]
          },
          "execution_count": 15,
          "metadata": {},
          "output_type": "execute_result"
        }
      ],
      "source": [
        "V_T_50 = V.T[:, :50]\n",
        "V_T_50"
      ]
    },
    {
      "cell_type": "markdown",
      "metadata": {
        "id": "7MAM0LYce0uY"
      },
      "source": [
        "## 9. Calculate the covariance matrix for the entire dataset (from step 6) (1 point)"
      ]
    },
    {
      "cell_type": "code",
      "execution_count": null,
      "metadata": {
        "colab": {
          "base_uri": "https://localhost:8080/"
        },
        "id": "OfA7M9RXXFOf",
        "outputId": "bb0c73ac-dca6-4f08-acf9-945a6403f0c6"
      },
      "outputs": [
        {
          "data": {
            "text/plain": [
              "array([[ 5292.52625759,  2765.40732109,  2769.99226942, ...,\n",
              "         -893.638266  ,  -857.88999175,  -808.28084168],\n",
              "       [ 2765.40732109,  5198.7710883 ,  3394.93508508, ...,\n",
              "        -1081.48498133, -1040.21712603,  -978.51767549],\n",
              "       [ 2769.99226942,  3394.93508508,  6507.06839788, ...,\n",
              "        -1266.68335051, -1219.27090128, -1146.28823122],\n",
              "       ...,\n",
              "       [ -893.638266  , -1081.48498133, -1266.68335051, ...,\n",
              "         2548.73157688,  1713.87613989,  1657.42239677],\n",
              "       [ -857.88999175, -1040.21712603, -1219.27090128, ...,\n",
              "         1713.87613989,  2405.65883708,  1618.23651534],\n",
              "       [ -808.28084168,  -978.51767549, -1146.28823122, ...,\n",
              "         1657.42239677,  1618.23651534,  2239.45480801]])"
            ]
          },
          "execution_count": 19,
          "metadata": {},
          "output_type": "execute_result"
        }
      ],
      "source": [
        "# Calculating the covariance matrix from the normalised matrix\n",
        "cov_matrix = np.cov(normalised_mat, bias = True)\n",
        "cov_matrix"
      ]
    },
    {
      "cell_type": "markdown",
      "metadata": {
        "id": "Y1KBgCfWe2qL"
      },
      "source": [
        "## 10. Get the eigen vectors from the covariance matrix (1 point)"
      ]
    },
    {
      "cell_type": "code",
      "execution_count": null,
      "metadata": {
        "id": "aIppzVciXX6N"
      },
      "outputs": [],
      "source": [
        "# Getting the eigenvalues and eigenvectors\n",
        "eigenValues, eigenVectors = np.linalg.eig(cov_matrix)"
      ]
    },
    {
      "cell_type": "code",
      "execution_count": null,
      "metadata": {
        "colab": {
          "base_uri": "https://localhost:8080/",
          "height": 423
        },
        "id": "25Jv5njIXdDh",
        "outputId": "7ac3f84f-f300-445a-d6f0-942e0a9c5839"
      },
      "outputs": [
        {
          "data": {
            "text/html": [
              "\n",
              "  <div id=\"df-b50ae765-1aca-4cf0-bc7f-8e5c438335c0\">\n",
              "    <div class=\"colab-df-container\">\n",
              "      <div>\n",
              "<style scoped>\n",
              "    .dataframe tbody tr th:only-of-type {\n",
              "        vertical-align: middle;\n",
              "    }\n",
              "\n",
              "    .dataframe tbody tr th {\n",
              "        vertical-align: top;\n",
              "    }\n",
              "\n",
              "    .dataframe thead th {\n",
              "        text-align: right;\n",
              "    }\n",
              "</style>\n",
              "<table border=\"1\" class=\"dataframe\">\n",
              "  <thead>\n",
              "    <tr style=\"text-align: right;\">\n",
              "      <th></th>\n",
              "      <th>0</th>\n",
              "    </tr>\n",
              "  </thead>\n",
              "  <tbody>\n",
              "    <tr>\n",
              "      <th>0</th>\n",
              "      <td>6.008856e+06</td>\n",
              "    </tr>\n",
              "    <tr>\n",
              "      <th>1</th>\n",
              "      <td>1.283588e+06</td>\n",
              "    </tr>\n",
              "    <tr>\n",
              "      <th>2</th>\n",
              "      <td>8.682958e+05</td>\n",
              "    </tr>\n",
              "    <tr>\n",
              "      <th>3</th>\n",
              "      <td>2.460462e+05</td>\n",
              "    </tr>\n",
              "    <tr>\n",
              "      <th>4</th>\n",
              "      <td>6.870694e+04</td>\n",
              "    </tr>\n",
              "    <tr>\n",
              "      <th>...</th>\n",
              "      <td>...</td>\n",
              "    </tr>\n",
              "    <tr>\n",
              "      <th>3947</th>\n",
              "      <td>3.534602e-04</td>\n",
              "    </tr>\n",
              "    <tr>\n",
              "      <th>3948</th>\n",
              "      <td>3.486686e-04</td>\n",
              "    </tr>\n",
              "    <tr>\n",
              "      <th>3949</th>\n",
              "      <td>3.447498e-04</td>\n",
              "    </tr>\n",
              "    <tr>\n",
              "      <th>3950</th>\n",
              "      <td>3.342457e-04</td>\n",
              "    </tr>\n",
              "    <tr>\n",
              "      <th>3951</th>\n",
              "      <td>3.356568e-04</td>\n",
              "    </tr>\n",
              "  </tbody>\n",
              "</table>\n",
              "<p>3952 rows × 1 columns</p>\n",
              "</div>\n",
              "      <button class=\"colab-df-convert\" onclick=\"convertToInteractive('df-b50ae765-1aca-4cf0-bc7f-8e5c438335c0')\"\n",
              "              title=\"Convert this dataframe to an interactive table.\"\n",
              "              style=\"display:none;\">\n",
              "        \n",
              "  <svg xmlns=\"http://www.w3.org/2000/svg\" height=\"24px\"viewBox=\"0 0 24 24\"\n",
              "       width=\"24px\">\n",
              "    <path d=\"M0 0h24v24H0V0z\" fill=\"none\"/>\n",
              "    <path d=\"M18.56 5.44l.94 2.06.94-2.06 2.06-.94-2.06-.94-.94-2.06-.94 2.06-2.06.94zm-11 1L8.5 8.5l.94-2.06 2.06-.94-2.06-.94L8.5 2.5l-.94 2.06-2.06.94zm10 10l.94 2.06.94-2.06 2.06-.94-2.06-.94-.94-2.06-.94 2.06-2.06.94z\"/><path d=\"M17.41 7.96l-1.37-1.37c-.4-.4-.92-.59-1.43-.59-.52 0-1.04.2-1.43.59L10.3 9.45l-7.72 7.72c-.78.78-.78 2.05 0 2.83L4 21.41c.39.39.9.59 1.41.59.51 0 1.02-.2 1.41-.59l7.78-7.78 2.81-2.81c.8-.78.8-2.07 0-2.86zM5.41 20L4 18.59l7.72-7.72 1.47 1.35L5.41 20z\"/>\n",
              "  </svg>\n",
              "      </button>\n",
              "      \n",
              "  <style>\n",
              "    .colab-df-container {\n",
              "      display:flex;\n",
              "      flex-wrap:wrap;\n",
              "      gap: 12px;\n",
              "    }\n",
              "\n",
              "    .colab-df-convert {\n",
              "      background-color: #E8F0FE;\n",
              "      border: none;\n",
              "      border-radius: 50%;\n",
              "      cursor: pointer;\n",
              "      display: none;\n",
              "      fill: #1967D2;\n",
              "      height: 32px;\n",
              "      padding: 0 0 0 0;\n",
              "      width: 32px;\n",
              "    }\n",
              "\n",
              "    .colab-df-convert:hover {\n",
              "      background-color: #E2EBFA;\n",
              "      box-shadow: 0px 1px 2px rgba(60, 64, 67, 0.3), 0px 1px 3px 1px rgba(60, 64, 67, 0.15);\n",
              "      fill: #174EA6;\n",
              "    }\n",
              "\n",
              "    [theme=dark] .colab-df-convert {\n",
              "      background-color: #3B4455;\n",
              "      fill: #D2E3FC;\n",
              "    }\n",
              "\n",
              "    [theme=dark] .colab-df-convert:hover {\n",
              "      background-color: #434B5C;\n",
              "      box-shadow: 0px 1px 3px 1px rgba(0, 0, 0, 0.15);\n",
              "      filter: drop-shadow(0px 1px 2px rgba(0, 0, 0, 0.3));\n",
              "      fill: #FFFFFF;\n",
              "    }\n",
              "  </style>\n",
              "\n",
              "      <script>\n",
              "        const buttonEl =\n",
              "          document.querySelector('#df-b50ae765-1aca-4cf0-bc7f-8e5c438335c0 button.colab-df-convert');\n",
              "        buttonEl.style.display =\n",
              "          google.colab.kernel.accessAllowed ? 'block' : 'none';\n",
              "\n",
              "        async function convertToInteractive(key) {\n",
              "          const element = document.querySelector('#df-b50ae765-1aca-4cf0-bc7f-8e5c438335c0');\n",
              "          const dataTable =\n",
              "            await google.colab.kernel.invokeFunction('convertToInteractive',\n",
              "                                                     [key], {});\n",
              "          if (!dataTable) return;\n",
              "\n",
              "          const docLinkHtml = 'Like what you see? Visit the ' +\n",
              "            '<a target=\"_blank\" href=https://colab.research.google.com/notebooks/data_table.ipynb>data table notebook</a>'\n",
              "            + ' to learn more about interactive tables.';\n",
              "          element.innerHTML = '';\n",
              "          dataTable['output_type'] = 'display_data';\n",
              "          await google.colab.output.renderOutput(dataTable, element);\n",
              "          const docLink = document.createElement('div');\n",
              "          docLink.innerHTML = docLinkHtml;\n",
              "          element.appendChild(docLink);\n",
              "        }\n",
              "      </script>\n",
              "    </div>\n",
              "  </div>\n",
              "  "
            ],
            "text/plain": [
              "                 0\n",
              "0     6.008856e+06\n",
              "1     1.283588e+06\n",
              "2     8.682958e+05\n",
              "3     2.460462e+05\n",
              "4     6.870694e+04\n",
              "...            ...\n",
              "3947  3.534602e-04\n",
              "3948  3.486686e-04\n",
              "3949  3.447498e-04\n",
              "3950  3.342457e-04\n",
              "3951  3.356568e-04\n",
              "\n",
              "[3952 rows x 1 columns]"
            ]
          },
          "execution_count": 21,
          "metadata": {},
          "output_type": "execute_result"
        }
      ],
      "source": [
        "# Printing the eigenvalues\n",
        "eigenValues = pd.DataFrame(eigenValues)\n",
        "eigenValues"
      ]
    },
    {
      "cell_type": "code",
      "execution_count": null,
      "metadata": {
        "colab": {
          "base_uri": "https://localhost:8080/",
          "height": 661
        },
        "id": "hENboqtZXfoM",
        "outputId": "9581ef24-56de-46a1-e418-afd8a5800c1b"
      },
      "outputs": [
        {
          "data": {
            "text/html": [
              "\n",
              "  <div id=\"df-9ffa03f9-81b6-4cff-adff-ee4400b41398\">\n",
              "    <div class=\"colab-df-container\">\n",
              "      <div>\n",
              "<style scoped>\n",
              "    .dataframe tbody tr th:only-of-type {\n",
              "        vertical-align: middle;\n",
              "    }\n",
              "\n",
              "    .dataframe tbody tr th {\n",
              "        vertical-align: top;\n",
              "    }\n",
              "\n",
              "    .dataframe thead th {\n",
              "        text-align: right;\n",
              "    }\n",
              "</style>\n",
              "<table border=\"1\" class=\"dataframe\">\n",
              "  <thead>\n",
              "    <tr style=\"text-align: right;\">\n",
              "      <th></th>\n",
              "      <th>0</th>\n",
              "      <th>1</th>\n",
              "      <th>2</th>\n",
              "      <th>3</th>\n",
              "      <th>4</th>\n",
              "      <th>5</th>\n",
              "      <th>6</th>\n",
              "      <th>7</th>\n",
              "      <th>8</th>\n",
              "      <th>9</th>\n",
              "      <th>...</th>\n",
              "      <th>3942</th>\n",
              "      <th>3943</th>\n",
              "      <th>3944</th>\n",
              "      <th>3945</th>\n",
              "      <th>3946</th>\n",
              "      <th>3947</th>\n",
              "      <th>3948</th>\n",
              "      <th>3949</th>\n",
              "      <th>3950</th>\n",
              "      <th>3951</th>\n",
              "    </tr>\n",
              "  </thead>\n",
              "  <tbody>\n",
              "    <tr>\n",
              "      <th>0</th>\n",
              "      <td>0.016580</td>\n",
              "      <td>0.011309</td>\n",
              "      <td>0.017487</td>\n",
              "      <td>-0.005465</td>\n",
              "      <td>0.055998</td>\n",
              "      <td>0.071538</td>\n",
              "      <td>0.013003</td>\n",
              "      <td>-0.026616</td>\n",
              "      <td>0.019395</td>\n",
              "      <td>-0.011843</td>\n",
              "      <td>...</td>\n",
              "      <td>-6.812534e-06</td>\n",
              "      <td>1.470535e-05</td>\n",
              "      <td>0.000002</td>\n",
              "      <td>-0.000004</td>\n",
              "      <td>-0.000012</td>\n",
              "      <td>-0.000008</td>\n",
              "      <td>-1.153939e-05</td>\n",
              "      <td>0.000007</td>\n",
              "      <td>0.000011</td>\n",
              "      <td>0.000001</td>\n",
              "    </tr>\n",
              "    <tr>\n",
              "      <th>1</th>\n",
              "      <td>0.020017</td>\n",
              "      <td>0.013228</td>\n",
              "      <td>0.016950</td>\n",
              "      <td>-0.038763</td>\n",
              "      <td>0.012661</td>\n",
              "      <td>0.025485</td>\n",
              "      <td>-0.031462</td>\n",
              "      <td>-0.034240</td>\n",
              "      <td>0.035876</td>\n",
              "      <td>0.002375</td>\n",
              "      <td>...</td>\n",
              "      <td>-2.089513e-05</td>\n",
              "      <td>-6.338772e-06</td>\n",
              "      <td>-0.000006</td>\n",
              "      <td>0.000021</td>\n",
              "      <td>0.000031</td>\n",
              "      <td>-0.000007</td>\n",
              "      <td>8.718360e-06</td>\n",
              "      <td>0.000026</td>\n",
              "      <td>-0.000021</td>\n",
              "      <td>0.000019</td>\n",
              "    </tr>\n",
              "    <tr>\n",
              "      <th>2</th>\n",
              "      <td>0.023216</td>\n",
              "      <td>0.015396</td>\n",
              "      <td>0.025844</td>\n",
              "      <td>0.010734</td>\n",
              "      <td>-0.061657</td>\n",
              "      <td>0.017369</td>\n",
              "      <td>-0.060711</td>\n",
              "      <td>-0.051591</td>\n",
              "      <td>-0.054897</td>\n",
              "      <td>0.011760</td>\n",
              "      <td>...</td>\n",
              "      <td>-6.431913e-06</td>\n",
              "      <td>-2.220918e-05</td>\n",
              "      <td>-0.000014</td>\n",
              "      <td>-0.000011</td>\n",
              "      <td>-0.000042</td>\n",
              "      <td>0.000002</td>\n",
              "      <td>-2.442568e-05</td>\n",
              "      <td>0.000003</td>\n",
              "      <td>0.000005</td>\n",
              "      <td>0.000015</td>\n",
              "    </tr>\n",
              "    <tr>\n",
              "      <th>3</th>\n",
              "      <td>0.024006</td>\n",
              "      <td>0.014882</td>\n",
              "      <td>0.022889</td>\n",
              "      <td>-0.001788</td>\n",
              "      <td>0.057812</td>\n",
              "      <td>-0.016078</td>\n",
              "      <td>-0.039556</td>\n",
              "      <td>-0.001432</td>\n",
              "      <td>0.055479</td>\n",
              "      <td>-0.010596</td>\n",
              "      <td>...</td>\n",
              "      <td>-1.923593e-05</td>\n",
              "      <td>6.656039e-07</td>\n",
              "      <td>-0.000017</td>\n",
              "      <td>0.000007</td>\n",
              "      <td>-0.000007</td>\n",
              "      <td>0.000004</td>\n",
              "      <td>8.126579e-07</td>\n",
              "      <td>-0.000007</td>\n",
              "      <td>-0.000007</td>\n",
              "      <td>-0.000007</td>\n",
              "    </tr>\n",
              "    <tr>\n",
              "      <th>4</th>\n",
              "      <td>0.023376</td>\n",
              "      <td>0.015203</td>\n",
              "      <td>0.024465</td>\n",
              "      <td>-0.000790</td>\n",
              "      <td>-0.040951</td>\n",
              "      <td>0.007638</td>\n",
              "      <td>-0.039445</td>\n",
              "      <td>-0.033404</td>\n",
              "      <td>-0.034590</td>\n",
              "      <td>0.011949</td>\n",
              "      <td>...</td>\n",
              "      <td>9.137227e-07</td>\n",
              "      <td>-2.697595e-06</td>\n",
              "      <td>-0.000007</td>\n",
              "      <td>-0.000007</td>\n",
              "      <td>-0.000007</td>\n",
              "      <td>0.000003</td>\n",
              "      <td>1.694435e-05</td>\n",
              "      <td>0.000015</td>\n",
              "      <td>0.000009</td>\n",
              "      <td>-0.000021</td>\n",
              "    </tr>\n",
              "    <tr>\n",
              "      <th>...</th>\n",
              "      <td>...</td>\n",
              "      <td>...</td>\n",
              "      <td>...</td>\n",
              "      <td>...</td>\n",
              "      <td>...</td>\n",
              "      <td>...</td>\n",
              "      <td>...</td>\n",
              "      <td>...</td>\n",
              "      <td>...</td>\n",
              "      <td>...</td>\n",
              "      <td>...</td>\n",
              "      <td>...</td>\n",
              "      <td>...</td>\n",
              "      <td>...</td>\n",
              "      <td>...</td>\n",
              "      <td>...</td>\n",
              "      <td>...</td>\n",
              "      <td>...</td>\n",
              "      <td>...</td>\n",
              "      <td>...</td>\n",
              "      <td>...</td>\n",
              "    </tr>\n",
              "    <tr>\n",
              "      <th>3947</th>\n",
              "      <td>-0.010180</td>\n",
              "      <td>0.022666</td>\n",
              "      <td>-0.004007</td>\n",
              "      <td>0.000639</td>\n",
              "      <td>0.000179</td>\n",
              "      <td>-0.001328</td>\n",
              "      <td>0.000006</td>\n",
              "      <td>0.000662</td>\n",
              "      <td>-0.000481</td>\n",
              "      <td>0.000562</td>\n",
              "      <td>...</td>\n",
              "      <td>-7.788610e-04</td>\n",
              "      <td>8.005938e-04</td>\n",
              "      <td>0.001809</td>\n",
              "      <td>0.000209</td>\n",
              "      <td>-0.000097</td>\n",
              "      <td>0.000627</td>\n",
              "      <td>6.455850e-04</td>\n",
              "      <td>-0.000437</td>\n",
              "      <td>-0.001644</td>\n",
              "      <td>-0.000197</td>\n",
              "    </tr>\n",
              "    <tr>\n",
              "      <th>3948</th>\n",
              "      <td>-0.011314</td>\n",
              "      <td>0.025107</td>\n",
              "      <td>-0.004412</td>\n",
              "      <td>0.000742</td>\n",
              "      <td>0.000054</td>\n",
              "      <td>-0.000835</td>\n",
              "      <td>0.000157</td>\n",
              "      <td>-0.000049</td>\n",
              "      <td>-0.000134</td>\n",
              "      <td>0.000359</td>\n",
              "      <td>...</td>\n",
              "      <td>-8.525155e-05</td>\n",
              "      <td>1.809619e-04</td>\n",
              "      <td>-0.000516</td>\n",
              "      <td>0.000949</td>\n",
              "      <td>-0.000430</td>\n",
              "      <td>0.001399</td>\n",
              "      <td>-6.295154e-04</td>\n",
              "      <td>-0.000763</td>\n",
              "      <td>-0.000802</td>\n",
              "      <td>-0.002021</td>\n",
              "    </tr>\n",
              "    <tr>\n",
              "      <th>3949</th>\n",
              "      <td>-0.012133</td>\n",
              "      <td>0.026718</td>\n",
              "      <td>-0.004666</td>\n",
              "      <td>0.000714</td>\n",
              "      <td>-0.000022</td>\n",
              "      <td>0.000032</td>\n",
              "      <td>-0.000033</td>\n",
              "      <td>-0.000125</td>\n",
              "      <td>-0.000011</td>\n",
              "      <td>-0.000062</td>\n",
              "      <td>...</td>\n",
              "      <td>-8.684699e-04</td>\n",
              "      <td>1.056881e-03</td>\n",
              "      <td>0.001029</td>\n",
              "      <td>0.000507</td>\n",
              "      <td>0.000322</td>\n",
              "      <td>0.001515</td>\n",
              "      <td>-2.674561e-04</td>\n",
              "      <td>-0.000675</td>\n",
              "      <td>0.000411</td>\n",
              "      <td>-0.000052</td>\n",
              "    </tr>\n",
              "    <tr>\n",
              "      <th>3950</th>\n",
              "      <td>-0.011676</td>\n",
              "      <td>0.025717</td>\n",
              "      <td>-0.004502</td>\n",
              "      <td>0.000696</td>\n",
              "      <td>0.000015</td>\n",
              "      <td>0.000098</td>\n",
              "      <td>0.000023</td>\n",
              "      <td>0.000027</td>\n",
              "      <td>0.000075</td>\n",
              "      <td>0.000167</td>\n",
              "      <td>...</td>\n",
              "      <td>2.265522e-03</td>\n",
              "      <td>1.787609e-04</td>\n",
              "      <td>-0.000430</td>\n",
              "      <td>0.000249</td>\n",
              "      <td>0.002503</td>\n",
              "      <td>-0.000520</td>\n",
              "      <td>1.590558e-04</td>\n",
              "      <td>0.000424</td>\n",
              "      <td>0.000657</td>\n",
              "      <td>0.000423</td>\n",
              "    </tr>\n",
              "    <tr>\n",
              "      <th>3951</th>\n",
              "      <td>-0.010981</td>\n",
              "      <td>0.024245</td>\n",
              "      <td>-0.004240</td>\n",
              "      <td>0.000696</td>\n",
              "      <td>0.000117</td>\n",
              "      <td>-0.000633</td>\n",
              "      <td>0.000041</td>\n",
              "      <td>-0.000321</td>\n",
              "      <td>-0.000211</td>\n",
              "      <td>0.000507</td>\n",
              "      <td>...</td>\n",
              "      <td>1.440902e-03</td>\n",
              "      <td>-8.876090e-04</td>\n",
              "      <td>-0.000762</td>\n",
              "      <td>0.000803</td>\n",
              "      <td>-0.000583</td>\n",
              "      <td>0.000166</td>\n",
              "      <td>1.267399e-03</td>\n",
              "      <td>-0.001021</td>\n",
              "      <td>-0.000801</td>\n",
              "      <td>0.001998</td>\n",
              "    </tr>\n",
              "  </tbody>\n",
              "</table>\n",
              "<p>3952 rows × 3952 columns</p>\n",
              "</div>\n",
              "      <button class=\"colab-df-convert\" onclick=\"convertToInteractive('df-9ffa03f9-81b6-4cff-adff-ee4400b41398')\"\n",
              "              title=\"Convert this dataframe to an interactive table.\"\n",
              "              style=\"display:none;\">\n",
              "        \n",
              "  <svg xmlns=\"http://www.w3.org/2000/svg\" height=\"24px\"viewBox=\"0 0 24 24\"\n",
              "       width=\"24px\">\n",
              "    <path d=\"M0 0h24v24H0V0z\" fill=\"none\"/>\n",
              "    <path d=\"M18.56 5.44l.94 2.06.94-2.06 2.06-.94-2.06-.94-.94-2.06-.94 2.06-2.06.94zm-11 1L8.5 8.5l.94-2.06 2.06-.94-2.06-.94L8.5 2.5l-.94 2.06-2.06.94zm10 10l.94 2.06.94-2.06 2.06-.94-2.06-.94-.94-2.06-.94 2.06-2.06.94z\"/><path d=\"M17.41 7.96l-1.37-1.37c-.4-.4-.92-.59-1.43-.59-.52 0-1.04.2-1.43.59L10.3 9.45l-7.72 7.72c-.78.78-.78 2.05 0 2.83L4 21.41c.39.39.9.59 1.41.59.51 0 1.02-.2 1.41-.59l7.78-7.78 2.81-2.81c.8-.78.8-2.07 0-2.86zM5.41 20L4 18.59l7.72-7.72 1.47 1.35L5.41 20z\"/>\n",
              "  </svg>\n",
              "      </button>\n",
              "      \n",
              "  <style>\n",
              "    .colab-df-container {\n",
              "      display:flex;\n",
              "      flex-wrap:wrap;\n",
              "      gap: 12px;\n",
              "    }\n",
              "\n",
              "    .colab-df-convert {\n",
              "      background-color: #E8F0FE;\n",
              "      border: none;\n",
              "      border-radius: 50%;\n",
              "      cursor: pointer;\n",
              "      display: none;\n",
              "      fill: #1967D2;\n",
              "      height: 32px;\n",
              "      padding: 0 0 0 0;\n",
              "      width: 32px;\n",
              "    }\n",
              "\n",
              "    .colab-df-convert:hover {\n",
              "      background-color: #E2EBFA;\n",
              "      box-shadow: 0px 1px 2px rgba(60, 64, 67, 0.3), 0px 1px 3px 1px rgba(60, 64, 67, 0.15);\n",
              "      fill: #174EA6;\n",
              "    }\n",
              "\n",
              "    [theme=dark] .colab-df-convert {\n",
              "      background-color: #3B4455;\n",
              "      fill: #D2E3FC;\n",
              "    }\n",
              "\n",
              "    [theme=dark] .colab-df-convert:hover {\n",
              "      background-color: #434B5C;\n",
              "      box-shadow: 0px 1px 3px 1px rgba(0, 0, 0, 0.15);\n",
              "      filter: drop-shadow(0px 1px 2px rgba(0, 0, 0, 0.3));\n",
              "      fill: #FFFFFF;\n",
              "    }\n",
              "  </style>\n",
              "\n",
              "      <script>\n",
              "        const buttonEl =\n",
              "          document.querySelector('#df-9ffa03f9-81b6-4cff-adff-ee4400b41398 button.colab-df-convert');\n",
              "        buttonEl.style.display =\n",
              "          google.colab.kernel.accessAllowed ? 'block' : 'none';\n",
              "\n",
              "        async function convertToInteractive(key) {\n",
              "          const element = document.querySelector('#df-9ffa03f9-81b6-4cff-adff-ee4400b41398');\n",
              "          const dataTable =\n",
              "            await google.colab.kernel.invokeFunction('convertToInteractive',\n",
              "                                                     [key], {});\n",
              "          if (!dataTable) return;\n",
              "\n",
              "          const docLinkHtml = 'Like what you see? Visit the ' +\n",
              "            '<a target=\"_blank\" href=https://colab.research.google.com/notebooks/data_table.ipynb>data table notebook</a>'\n",
              "            + ' to learn more about interactive tables.';\n",
              "          element.innerHTML = '';\n",
              "          dataTable['output_type'] = 'display_data';\n",
              "          await google.colab.output.renderOutput(dataTable, element);\n",
              "          const docLink = document.createElement('div');\n",
              "          docLink.innerHTML = docLinkHtml;\n",
              "          element.appendChild(docLink);\n",
              "        }\n",
              "      </script>\n",
              "    </div>\n",
              "  </div>\n",
              "  "
            ],
            "text/plain": [
              "          0         1         2         3         4         5         6     \\\n",
              "0     0.016580  0.011309  0.017487 -0.005465  0.055998  0.071538  0.013003   \n",
              "1     0.020017  0.013228  0.016950 -0.038763  0.012661  0.025485 -0.031462   \n",
              "2     0.023216  0.015396  0.025844  0.010734 -0.061657  0.017369 -0.060711   \n",
              "3     0.024006  0.014882  0.022889 -0.001788  0.057812 -0.016078 -0.039556   \n",
              "4     0.023376  0.015203  0.024465 -0.000790 -0.040951  0.007638 -0.039445   \n",
              "...        ...       ...       ...       ...       ...       ...       ...   \n",
              "3947 -0.010180  0.022666 -0.004007  0.000639  0.000179 -0.001328  0.000006   \n",
              "3948 -0.011314  0.025107 -0.004412  0.000742  0.000054 -0.000835  0.000157   \n",
              "3949 -0.012133  0.026718 -0.004666  0.000714 -0.000022  0.000032 -0.000033   \n",
              "3950 -0.011676  0.025717 -0.004502  0.000696  0.000015  0.000098  0.000023   \n",
              "3951 -0.010981  0.024245 -0.004240  0.000696  0.000117 -0.000633  0.000041   \n",
              "\n",
              "          7         8         9     ...          3942          3943      3944  \\\n",
              "0    -0.026616  0.019395 -0.011843  ... -6.812534e-06  1.470535e-05  0.000002   \n",
              "1    -0.034240  0.035876  0.002375  ... -2.089513e-05 -6.338772e-06 -0.000006   \n",
              "2    -0.051591 -0.054897  0.011760  ... -6.431913e-06 -2.220918e-05 -0.000014   \n",
              "3    -0.001432  0.055479 -0.010596  ... -1.923593e-05  6.656039e-07 -0.000017   \n",
              "4    -0.033404 -0.034590  0.011949  ...  9.137227e-07 -2.697595e-06 -0.000007   \n",
              "...        ...       ...       ...  ...           ...           ...       ...   \n",
              "3947  0.000662 -0.000481  0.000562  ... -7.788610e-04  8.005938e-04  0.001809   \n",
              "3948 -0.000049 -0.000134  0.000359  ... -8.525155e-05  1.809619e-04 -0.000516   \n",
              "3949 -0.000125 -0.000011 -0.000062  ... -8.684699e-04  1.056881e-03  0.001029   \n",
              "3950  0.000027  0.000075  0.000167  ...  2.265522e-03  1.787609e-04 -0.000430   \n",
              "3951 -0.000321 -0.000211  0.000507  ...  1.440902e-03 -8.876090e-04 -0.000762   \n",
              "\n",
              "          3945      3946      3947          3948      3949      3950      3951  \n",
              "0    -0.000004 -0.000012 -0.000008 -1.153939e-05  0.000007  0.000011  0.000001  \n",
              "1     0.000021  0.000031 -0.000007  8.718360e-06  0.000026 -0.000021  0.000019  \n",
              "2    -0.000011 -0.000042  0.000002 -2.442568e-05  0.000003  0.000005  0.000015  \n",
              "3     0.000007 -0.000007  0.000004  8.126579e-07 -0.000007 -0.000007 -0.000007  \n",
              "4    -0.000007 -0.000007  0.000003  1.694435e-05  0.000015  0.000009 -0.000021  \n",
              "...        ...       ...       ...           ...       ...       ...       ...  \n",
              "3947  0.000209 -0.000097  0.000627  6.455850e-04 -0.000437 -0.001644 -0.000197  \n",
              "3948  0.000949 -0.000430  0.001399 -6.295154e-04 -0.000763 -0.000802 -0.002021  \n",
              "3949  0.000507  0.000322  0.001515 -2.674561e-04 -0.000675  0.000411 -0.000052  \n",
              "3950  0.000249  0.002503 -0.000520  1.590558e-04  0.000424  0.000657  0.000423  \n",
              "3951  0.000803 -0.000583  0.000166  1.267399e-03 -0.001021 -0.000801  0.001998  \n",
              "\n",
              "[3952 rows x 3952 columns]"
            ]
          },
          "execution_count": 22,
          "metadata": {},
          "output_type": "execute_result"
        }
      ],
      "source": [
        "# Printing the eigenvectors\n",
        "eigenVectors = pd.DataFrame(eigenVectors)\n",
        "eigenVectors"
      ]
    },
    {
      "cell_type": "markdown",
      "metadata": {
        "id": "_uIvqRyse4mU"
      },
      "source": [
        "## 11. Get the top 50 eigen vectors using eigen values (1 point)"
      ]
    },
    {
      "cell_type": "code",
      "execution_count": null,
      "metadata": {
        "colab": {
          "base_uri": "https://localhost:8080/"
        },
        "id": "0q-Rhw9tXuMg",
        "outputId": "0eaf44d6-2ff1-4a68-c146-970793b9f29d"
      },
      "outputs": [
        {
          "data": {
            "text/plain": [
              "array([[ 7.25629770e+04,  1.58342947e+04,  4.21624389e+03, ...,\n",
              "        -3.30908141e+02, -4.32040280e+01, -3.60586303e+01],\n",
              "       [ 9.30575124e+04,  1.67316178e+04,  8.42098396e+02, ...,\n",
              "        -1.74319934e+02,  1.43672328e+02,  6.08449279e+01],\n",
              "       [ 1.12147345e+05,  2.52734087e+04,  3.48866347e+02, ...,\n",
              "         1.16597460e+02, -1.77405688e+02, -1.10251210e+02],\n",
              "       ...,\n",
              "       [-1.00836065e+05,  3.26869654e+03, -1.32095718e+04, ...,\n",
              "        -9.22438917e+01,  3.89434039e+01,  6.04971269e+01],\n",
              "       [-9.80251070e+04,  2.92894411e+03, -1.21120499e+04, ...,\n",
              "         6.46047941e+00, -1.30851528e+01, -2.41174876e+01],\n",
              "       [-9.37555455e+04,  2.44801815e+03, -1.04981503e+04, ...,\n",
              "        -2.51465912e+01, -6.75946199e+01,  6.61584082e+00]])"
            ]
          },
          "execution_count": 24,
          "metadata": {},
          "output_type": "execute_result"
        }
      ],
      "source": [
        "# Using the PCA to find out 50 components \n",
        "pca = PCA(n_components=50)\n",
        "result_pca = pca.fit_transform(cov_matrix)\n",
        "result_pca"
      ]
    },
    {
      "cell_type": "markdown",
      "metadata": {
        "id": "k1lDuKGre61p"
      },
      "source": [
        "## 12. Using cosine similarity find 10 closest movies using the 50 components from SVD (step 8) (2 points)"
      ]
    },
    {
      "cell_type": "code",
      "execution_count": null,
      "metadata": {
        "id": "KwEfU603VxKj"
      },
      "outputs": [],
      "source": [
        "#Function to calculate the cosine similarity (sorting by most similar and returning the top N)\n",
        "def top_cosine_similarity(data, movie_id, top_n=10):\n",
        "    index = movie_id - 1 # Movie id starts from 1 in the dataset\n",
        "    movie_row = data[index, :]\n",
        "    magnitude = np.sqrt(np.einsum('ij, ij -> i', data, data))\n",
        "    similarity = np.dot(movie_row, data.T) / (magnitude[index] * magnitude)\n",
        "    sort_indexes = np.argsort(-similarity)\n",
        "    return sort_indexes[:top_n]\n",
        "\n",
        "# Function to print top N similar movies\n",
        "def print_similar_movies(movie_data, movie_id, top_indexes):\n",
        "    print('Recommendations for {0}: \\n'.format(\n",
        "    movie_data[movie_data.movie_id == movie_id].title.values[0]))\n",
        "    for id in top_indexes + 1:\n",
        "        print(movie_data[movie_data.movie_id == id].title.values[0])"
      ]
    },
    {
      "cell_type": "code",
      "execution_count": null,
      "metadata": {
        "id": "zRC1z7pmWOa5"
      },
      "outputs": [],
      "source": [
        "# Choosing the movie recommendation for movie_id = 153\n",
        "movie_id = 153"
      ]
    },
    {
      "cell_type": "code",
      "execution_count": null,
      "metadata": {
        "colab": {
          "base_uri": "https://localhost:8080/"
        },
        "id": "H0ee_dCDWBdK",
        "outputId": "657fb519-1cca-47d7-d85e-e4989eb0e405"
      },
      "outputs": [
        {
          "name": "stdout",
          "output_type": "stream",
          "text": [
            "Recommendations for Batman Forever (1995): \n",
            "\n",
            "Batman Forever (1995)\n",
            "Cliffhanger (1993)\n",
            "Maverick (1994)\n",
            "Last Action Hero (1993)\n",
            "Waterworld (1995)\n",
            "Beverly Hills Cop III (1994)\n",
            "Three Musketeers, The (1993)\n",
            "Under Siege 2: Dark Territory (1995)\n",
            "Rumble in the Bronx (1995)\n",
            "Richie Rich (1994)\n"
          ]
        }
      ],
      "source": [
        "# Calculating the top indexes from the top_cosine_similarity\n",
        "indexes = top_cosine_similarity(V_T_50, movie_id, 10)\n",
        "\n",
        "# Printing the top 10 similar movies\n",
        "print_similar_movies(movies, movie_id, indexes)"
      ]
    },
    {
      "cell_type": "markdown",
      "metadata": {
        "id": "UWvgT5lHe8uV"
      },
      "source": [
        "## 13. Using cosine similarity find 10 closest movies using the 50 components from PCA (step 11) (2 points)"
      ]
    },
    {
      "cell_type": "code",
      "execution_count": null,
      "metadata": {
        "colab": {
          "base_uri": "https://localhost:8080/"
        },
        "id": "ETySR9_AY7H2",
        "outputId": "e37b0cbe-a849-4d59-f843-59e191597d76"
      },
      "outputs": [
        {
          "name": "stdout",
          "output_type": "stream",
          "text": [
            "Recommendations for Batman Forever (1995): \n",
            "\n",
            "Batman Forever (1995)\n",
            "Hot Shots! Part Deux (1993)\n",
            "Natural Born Killers (1994)\n",
            "House Party 3 (1994)\n",
            "Cliffhanger (1993)\n",
            "Boomerang (1992)\n",
            "Terminal Velocity (1994)\n",
            "Bad Company (1995)\n",
            "Casper (1995)\n",
            "Circle of Friends (1995)\n"
          ]
        }
      ],
      "source": [
        "# Calculating the top indexes from the top_cosine_similarity using the 50 components from the PCA\n",
        "indexes_pca = top_cosine_similarity(result_pca, movie_id, 10)\n",
        "\n",
        "# Printing the top 10 similar movies using PCA\n",
        "print_similar_movies(movies, movie_id, indexes_pca)"
      ]
    },
    {
      "cell_type": "markdown",
      "metadata": {
        "id": "mDqsiXLIe-66"
      },
      "source": [
        "## 14. Compare the results of above two methods (1 point)"
      ]
    },
    {
      "cell_type": "markdown",
      "metadata": {
        "id": "CkRmK8wPZI47"
      },
      "source": [
        "With the above results, we can see that the SVD and PCA method gave different recommendations for the movie with movie_id = 153.<br> But both don't have very large difference if we check the movie details as per the ratings.<br>Also, in this experiment, we found that PCA was faster than SVD. It was fast to find the top 50 components with higher variability then to decompose such large matrix."
      ]
    },
    {
      "cell_type": "code",
      "execution_count": null,
      "metadata": {
        "id": "mhzSBWW6bAeI"
      },
      "outputs": [],
      "source": []
    }
  ],
  "metadata": {
    "colab": {
      "collapsed_sections": [],
      "name": "Lab_2_Task_3_RecommenderSystem",
      "provenance": []
    },
    "kernelspec": {
      "display_name": "Python 3",
      "name": "python3"
    },
    "language_info": {
      "name": "python"
    }
  },
  "nbformat": 4,
  "nbformat_minor": 0
}
